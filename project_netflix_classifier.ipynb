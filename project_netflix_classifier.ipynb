{
 "cells": [
  {
   "cell_type": "code",
   "execution_count": 1,
   "id": "02869185-9e8a-4252-bff3-1b1b2e2baa63",
   "metadata": {},
   "outputs": [],
   "source": [
    "import pandas as pd\n",
    "import numpy as np\n",
    "import seaborn as sns"
   ]
  },
  {
   "cell_type": "code",
   "execution_count": 2,
   "id": "ac65ebf9-16c0-43fc-8483-c3ae8f2f27fe",
   "metadata": {},
   "outputs": [],
   "source": [
    "train_data = pd.read_csv('train.csv')\n",
    "test_data = pd.read_csv('test.csv')\n",
    "sample_submission = pd.read_csv('sample_submission.csv')"
   ]
  },
  {
   "cell_type": "code",
   "execution_count": 3,
   "id": "0242fc3d-e834-40c8-91d7-c38fbd6817a7",
   "metadata": {},
   "outputs": [
    {
     "data": {
      "text/plain": [
       "((70000, 509), (30000, 508), (30000, 2))"
      ]
     },
     "execution_count": 3,
     "metadata": {},
     "output_type": "execute_result"
    }
   ],
   "source": [
    "train_data.shape, test_data.shape, sample_submission.shape"
   ]
  },
  {
   "cell_type": "code",
   "execution_count": 17,
   "id": "a8d8fa0a-ec33-46e2-af57-ddd208a00440",
   "metadata": {},
   "outputs": [
    {
     "data": {
      "text/plain": [
       "(array([dtype('int64'), dtype('O'), dtype('float64')], dtype=object),\n",
       " array([dtype('int64'), dtype('O'), dtype('float64')], dtype=object),\n",
       " array([dtype('int64'), dtype('float64')], dtype=object))"
      ]
     },
     "execution_count": 17,
     "metadata": {},
     "output_type": "execute_result"
    }
   ],
   "source": [
    "train_data.dtypes.unique(), test_data.dtypes.unique(), sample_submission.dtypes.unique()"
   ]
  },
  {
   "cell_type": "code",
   "execution_count": null,
   "id": "8c75dc10-bf77-4471-a2d2-485eff5c354b",
   "metadata": {},
   "outputs": [],
   "source": []
  }
 ],
 "metadata": {
  "kernelspec": {
   "display_name": "Python 3 (ipykernel)",
   "language": "python",
   "name": "python3"
  },
  "language_info": {
   "codemirror_mode": {
    "name": "ipython",
    "version": 3
   },
   "file_extension": ".py",
   "mimetype": "text/x-python",
   "name": "python",
   "nbconvert_exporter": "python",
   "pygments_lexer": "ipython3",
   "version": "3.10.4"
  }
 },
 "nbformat": 4,
 "nbformat_minor": 5
}
